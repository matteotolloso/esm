{
 "cells": [
  {
   "cell_type": "code",
   "execution_count": 1,
   "metadata": {},
   "outputs": [],
   "source": [
    "import numpy as np\n",
    "\n",
    "arr = np.load('dataset/topo/sp|A0A0U1RPR8|GUC2D_MOUSE.npy')"
   ]
  },
  {
   "cell_type": "code",
   "execution_count": 3,
   "metadata": {},
   "outputs": [
    {
     "name": "stdout",
     "output_type": "stream",
     "text": [
      "1117\n"
     ]
    }
   ],
   "source": [
    "c =\\\n",
    "'MAGLQQGCHFEGQNWTAPHWKTCLPCQGPWRLTVSHLKTVSSISVLSVVFWSVLLWADSL\\\n",
    "SLLAWARETFTLGVLGPWDCDPIFAQALPSIATQLAVDQVNQDASLLPGSQLDFKVLPTG\\\n",
    "CDTPHALATFVAHKNIVAAFVGPVNPGFCSAAALLAQGWGKSLFSWACEAPEGGGDLVPT\\\n",
    "LPSAADVLLSVMRHFGWARWAIVSSHQDIWVTTAQQLATAFRTHGLPIGLVTSLGPGEKG\\\n",
    "ATEVCKQLHSVHGLKIVVLCMHSALLGGLEQTTLLHCAWEEGLTDGRLVFLPYDTLLFAL\\\n",
    "PYGNRSYLVLDDHGPLQEAYDAVLTVSLESSPESHAFTATEMSGGATANLEPEQVSPLFG\\\n",
    "TIYDAVILLAHALNRSETHGAGLSGAHLGDHVRALDVAGFSQRIRTDGKGRRLAQYVILD\\\n",
    "TDGEGSQLVPTHILDTSTWQVQPLGKPIHFPGGSPPAHDASCWFDPNTLCIRGVQPLGSL\\\n",
    "LTLTIACVLALVGGFLAYFIRLGLQQLRLLRGPHRILLTSQELTFLQRTPSRRRPHVDSG\\\n",
    "SESRSVVDGGSPRSVTQGSARSLPAFLEHTNVALYQGEWVWLKKFEAGVAPDLRPSSLSF\\\n",
    "LRKLREMRHENVTAFLGLFVGPGVSAMVLEHCARGSLEDLLQNENLRLDWTFKASLLLDL\\\n",
    "IRGLRYLHHRRFPHGRLKSRNCVVDTRFVLKITDHGYAEFLESHCSSRPQPAPEELLWTA\\\n",
    "PELLRGPGKATFKGDVFSLAIILQEVLTRDPPYCSWGLSAEEIIRKVASPPPLCRPLVSP\\\n",
    "DQGPLECIQLMQLCWEEAPDDRPSLDQIYTQFKSINQGKKTSVVDSMLRMLEKYSESLED\\\n",
    "LVQERTEELELERRKTERLLSQMLPPSVAHALKMGTTVEPEYFDQVTIYFSDIVGFTTIS\\\n",
    "ALSEPIEVVGFLNDLYTLFDAVLDSHDVYKVETIGDAYMVASGLPRRNGNRHAAEIANLA\\\n",
    "LDILSYAGNFRMRHAPDVPIRVRAGLHSGPCVAGVVGLTMPRYCLFGDTVNTASRMESTG\\\n",
    "LPYRIHVSQSTVQALLSLDEGYKIDVRGQTELKGKGLEETYWLTGKVGFCRPLPTPLSIK\\\n",
    "PGDPWQDRINQEIRTGFAKARQGLAEPRKSGEAGPGP'\n",
    "print(len(c))"
   ]
  },
  {
   "cell_type": "code",
   "execution_count": 2,
   "metadata": {},
   "outputs": [
    {
     "data": {
      "text/plain": [
       "(2, 559, 1280)"
      ]
     },
     "execution_count": 2,
     "metadata": {},
     "output_type": "execute_result"
    }
   ],
   "source": [
    "arr.shape"
   ]
  },
  {
   "cell_type": "code",
   "execution_count": 11,
   "metadata": {},
   "outputs": [
    {
     "name": "stdout",
     "output_type": "stream",
     "text": [
      "3\n",
      "minore\n",
      "[[5 6]\n",
      " [7 8]]\n",
      "[array([[1, 2],\n",
      "       [3, 4],\n",
      "       [5, 6]]), array([[5., 6.],\n",
      "       [7., 8.],\n",
      "       [6., 7.]])]\n"
     ]
    }
   ],
   "source": [
    "import numpy as np\n",
    "sequence_embedding = []\n",
    "\n",
    "sequence_embedding.append(np.array([[1, 2], [3, 4], [5, 6]]))\n",
    "sequence_embedding.append(np.array([[5, 6], [7, 8]]))\n",
    "\n",
    "max_len = max([len(z) for z in sequence_embedding]) # z is a np array size (chunk_size x 1280)\n",
    "print(max_len)\n",
    "\n",
    "for i, z in enumerate(sequence_embedding):\n",
    "    if len(z) < max_len:\n",
    "        sequence_embedding[i] = np.append(z, [np.mean(z, axis=0)], axis=0) # it is enough to append only one value, since the max difference between chunks is 1\n",
    "\n",
    "print(sequence_embedding)  "
   ]
  }
 ],
 "metadata": {
  "kernelspec": {
   "display_name": "bioemb0",
   "language": "python",
   "name": "python3"
  },
  "language_info": {
   "codemirror_mode": {
    "name": "ipython",
    "version": 3
   },
   "file_extension": ".py",
   "mimetype": "text/x-python",
   "name": "python",
   "nbconvert_exporter": "python",
   "pygments_lexer": "ipython3",
   "version": "3.11.3"
  },
  "orig_nbformat": 4
 },
 "nbformat": 4,
 "nbformat_minor": 2
}
